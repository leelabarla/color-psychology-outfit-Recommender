{
 "cells": [
  {
   "cell_type": "code",
   "execution_count": 1,
   "id": "3e2b4d95-5aa6-4bef-818f-180c139fd126",
   "metadata": {},
   "outputs": [
    {
     "name": "stdout",
     "output_type": "stream",
     "text": [
      "🎨 Welcome to the Color Psychology Outfit Recommender!\n",
      "How are you feeling today?\n",
      "You can enter one or two moods (e.g., 'happy', 'stressed and relaxed'):\n"
     ]
    },
    {
     "name": "stdin",
     "output_type": "stream",
     "text": [
      "Enter your mood(s):  angry\n",
      "Do you prefer casual or formal outfits? (casual/formal):  formal\n",
      "Which season is it currently? (summer/winter):  winter\n"
     ]
    },
    {
     "name": "stdout",
     "output_type": "stream",
     "text": [
      "\n",
      "🎭 You entered: angry\n",
      "🎨 Recommended color(s): black\n",
      "\n",
      "👕 Outfit Suggestion for black (Formal):\n",
      "   Top: black blazer\n",
      "   Bottom: black pants\n",
      "   Accessory: formal shoes\n",
      "   Season Check: ✅ Good match for the season!\n"
     ]
    },
    {
     "name": "stdin",
     "output_type": "stream",
     "text": [
      "\n",
      "Would you like to try another mood? (yes/no):  no\n"
     ]
    },
    {
     "name": "stdout",
     "output_type": "stream",
     "text": [
      "\n",
      "👗 Thank you for using the Color Psychology Outfit Recommender. Stay stylish!\n"
     ]
    }
   ],
   "source": [
    "def get_user_input():\n",
    "    print(\"🎨 Welcome to the Color Psychology Outfit Recommender!\")\n",
    "    print(\"How are you feeling today?\")\n",
    "    print(\"You can enter one or two moods (e.g., 'happy', 'stressed and relaxed'):\")\n",
    "    mood_input = input(\"Enter your mood(s): \").strip().lower()\n",
    "\n",
    "    style = input(\"Do you prefer casual or formal outfits? (casual/formal): \").strip().lower()\n",
    "    season = input(\"Which season is it currently? (summer/winter): \").strip().lower()\n",
    "    return mood_input, style, season\n",
    "\n",
    "def get_combined_colors(mood_input):\n",
    "    mood_to_color = {\n",
    "        \"happy\": \"yellow\",\n",
    "        \"sad\": \"blue\",\n",
    "        \"angry\": \"black\",\n",
    "        \"stressed\": \"blue\",\n",
    "        \"relaxed\": \"green\",\n",
    "        \"energetic\": \"red\",\n",
    "        \"calm\": \"blue\",\n",
    "        \"motivated\": \"red\",\n",
    "        \"serious\": \"black\",\n",
    "        \"caring\": \"pink\"\n",
    "    }\n",
    "\n",
    "    moods = mood_input.replace(\"and\", \",\").split(\",\")\n",
    "    moods = [m.strip() for m in moods]\n",
    "\n",
    "    matched_colors = [mood_to_color.get(m) for m in moods if m in mood_to_color]\n",
    "    return list(set(filter(None, matched_colors))), moods\n",
    "\n",
    "def get_outfit(color, style):\n",
    "    outfit_combinations = {\n",
    "        \"casual\": {\n",
    "            \"yellow\": {\"top\": \"yellow t-shirt\", \"bottom\": \"white jeans\", \"accessory\": \"sun hat\"},\n",
    "            \"blue\": {\"top\": \"blue hoodie\", \"bottom\": \"joggers\", \"accessory\": \"silver bracelet\"},\n",
    "            \"black\": {\"top\": \"black t-shirt\", \"bottom\": \"ripped jeans\", \"accessory\": \"sneakers\"},\n",
    "            \"green\": {\"top\": \"green tank top\", \"bottom\": \"shorts\", \"accessory\": \"canvas bag\"},\n",
    "            \"red\": {\"top\": \"red hoodie\", \"bottom\": \"black shorts\", \"accessory\": \"sports cap\"},\n",
    "            \"pink\": {\"top\": \"pink crop top\", \"bottom\": \"white skirt\", \"accessory\": \"bracelet\"}\n",
    "        },\n",
    "        \"formal\": {\n",
    "            \"yellow\": {\"top\": \"yellow blouse\", \"bottom\": \"beige trousers\", \"accessory\": \"gold earrings\"},\n",
    "            \"blue\": {\"top\": \"blue shirt\", \"bottom\": \"black pants\", \"accessory\": \"tie or watch\"},\n",
    "            \"black\": {\"top\": \"black blazer\", \"bottom\": \"black pants\", \"accessory\": \"formal shoes\"},\n",
    "            \"green\": {\"top\": \"green formal shirt\", \"bottom\": \"navy trousers\", \"accessory\": \"leather belt\"},\n",
    "            \"red\": {\"top\": \"red formal top\", \"bottom\": \"gray skirt\", \"accessory\": \"red heels\"},\n",
    "            \"pink\": {\"top\": \"pink blouse\", \"bottom\": \"cream trousers\", \"accessory\": \"pearl necklace\"}\n",
    "        }\n",
    "    }\n",
    "\n",
    "    return outfit_combinations.get(style, {}).get(color)\n",
    "\n",
    "def check_season_color(color, season):\n",
    "    season_colors = {\n",
    "        \"summer\": [\"yellow\", \"white\", \"light green\", \"pink\"],\n",
    "        \"winter\": [\"black\", \"dark blue\", \"red\", \"green\"]\n",
    "    }\n",
    "    return color in season_colors.get(season, [])\n",
    "\n",
    "def main():\n",
    "    while True:\n",
    "        mood_input, style, season = get_user_input()\n",
    "        colors, moods = get_combined_colors(mood_input)\n",
    "\n",
    "        if not colors:\n",
    "            print(\"❌ No valid moods detected. Try again.\")\n",
    "            continue\n",
    "\n",
    "        print(f\"\\n🎭 You entered: {', '.join(moods)}\")\n",
    "        print(f\"🎨 Recommended color(s): {', '.join(colors)}\")\n",
    "\n",
    "        for color in colors:\n",
    "            is_seasonal = check_season_color(color, season)\n",
    "            season_note = \"✅ Good match for the season!\" if is_seasonal else \"⚠️ Not ideal for this season.\"\n",
    "\n",
    "            outfit = get_outfit(color, style)\n",
    "            if outfit:\n",
    "                print(f\"\\n👕 Outfit Suggestion for {color} ({style.title()}):\")\n",
    "                print(f\"   Top: {outfit['top']}\")\n",
    "                print(f\"   Bottom: {outfit['bottom']}\")\n",
    "                print(f\"   Accessory: {outfit['accessory']}\")\n",
    "                print(f\"   Season Check: {season_note}\")\n",
    "            else:\n",
    "                print(f\"\\nNo outfit found for color '{color}' in '{style}' style.\")\n",
    "\n",
    "        again = input(\"\\nWould you like to try another mood? (yes/no): \").strip().lower()\n",
    "        if again != \"yes\":\n",
    "            print(\"\\n👗 Thank you for using the Color Psychology Outfit Recommender. Stay stylish!\")\n",
    "            break\n",
    "\n",
    "if __name__ == \"__main__\":\n",
    "    main()"
   ]
  },
  {
   "cell_type": "code",
   "execution_count": null,
   "id": "bea6d85d-77da-4b97-87f5-e69e546cc41f",
   "metadata": {},
   "outputs": [],
   "source": []
  }
 ],
 "metadata": {
  "kernelspec": {
   "display_name": "Python 3 (ipykernel)",
   "language": "python",
   "name": "python3"
  },
  "language_info": {
   "codemirror_mode": {
    "name": "ipython",
    "version": 3
   },
   "file_extension": ".py",
   "mimetype": "text/x-python",
   "name": "python",
   "nbconvert_exporter": "python",
   "pygments_lexer": "ipython3",
   "version": "3.12.7"
  }
 },
 "nbformat": 4,
 "nbformat_minor": 5
}
